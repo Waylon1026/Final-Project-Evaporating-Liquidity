{
 "cells": [
  {
   "cell_type": "markdown",
   "metadata": {},
   "source": [
    "# Final Project - Evaporating Liquidity"
   ]
  },
  {
   "cell_type": "markdown",
   "metadata": {},
   "source": [
    "In this project, we replicate tables from the paper \"_Evaporating Liquidity_\" by Stefan Nagel using the Principals of Reproducible Analytical Pipelines (RAPs) learned in the class. \n",
    "\n",
    "Our replication is automated from end-to-end using Pydoit, formatted using the project template (blank_project) provided by professor Bejarano, which is based on the Cookiecutter Data Science template."
   ]
  },
  {
   "cell_type": "code",
   "execution_count": null,
   "metadata": {},
   "outputs": [],
   "source": [
    "import pandas as pd\n",
    "import numpy as np\n",
    "import matplotlib.pyplot as plt\n",
    "\n",
    "import config\n",
    "\n",
    "import load_CRSP_stock\n",
    "import load_FF_industry\n",
    "import load_vix\n",
    "\n",
    "import clean_CRSP_stock\n",
    "import calc_reversal_strategy\n",
    "# import hedged_reversal_strategy\n",
    "import additional_analysis\n",
    "\n",
    "DATA_DIR= config.DATA_DIR\n",
    "\n",
    "import warnings\n",
    "warnings.filterwarnings('ignore')\n"
   ]
  },
  {
   "cell_type": "markdown",
   "metadata": {},
   "source": [
    "## Data Collection"
   ]
  },
  {
   "cell_type": "markdown",
   "metadata": {},
   "source": [
    "### 1. Pull and load CRSP data from WRDS"
   ]
  },
  {
   "cell_type": "markdown",
   "metadata": {},
   "source": [
    "Using `load_CRSP_stock`, we pull and save CRSP daily stock data and indexes from WRDS (Wharton Research Data Services). \n",
    "\n",
    "The CRSP daily stock data is needed to construct individual portfolios based on Reversal strategy. The CRSP daily index data is needed to evaluate the performance of Reversal strategy portfolios.\n",
    "\n",
    "Specifically:\n",
    "- we use query to pull data of stocks with share code 10 or 11, from NYSE, AMEX, and Nasdaq\n",
    "- pull one extra month of daily stock data for later data cleaning and processing"
   ]
  },
  {
   "cell_type": "markdown",
   "metadata": {},
   "source": [
    "#### CRSP daily stock data"
   ]
  },
  {
   "cell_type": "code",
   "execution_count": null,
   "metadata": {},
   "outputs": [],
   "source": [
    "df_dsf = load_CRSP_stock.load_CRSP_daily_file(data_dir=DATA_DIR)\n",
    "df_dsf.info()"
   ]
  },
  {
   "cell_type": "markdown",
   "metadata": {},
   "source": [
    "### CRSP daily indexes"
   ]
  },
  {
   "cell_type": "code",
   "execution_count": null,
   "metadata": {},
   "outputs": [],
   "source": [
    "df_msix = load_CRSP_stock.load_CRSP_index_files(data_dir=DATA_DIR)\n",
    "df_msix.columns"
   ]
  },
  {
   "cell_type": "markdown",
   "metadata": {},
   "source": [
    "### 2. Pull and load data from the Fama-French Data Library\n"
   ]
  },
  {
   "cell_type": "markdown",
   "metadata": {},
   "source": [
    "\n",
    "Using `load_FF_industry`, we pull and save 48 industry portfolio daily returns from the Fama/French Data Library. \n",
    "\n",
    "The industry portfolios are constructed by classifying stocks into 48 industries as in Fama and French (1997). The industry portfolio daily returns are needed to construct the industry portfolios based on Reversal strategy."
   ]
  },
  {
   "cell_type": "code",
   "execution_count": null,
   "metadata": {},
   "outputs": [],
   "source": [
    "ff = load_FF_industry.load_FF_industry_portfolio_daily(data_dir=DATA_DIR)"
   ]
  },
  {
   "cell_type": "markdown",
   "metadata": {},
   "source": [
    "#### Average Value Weighted Daily Returns"
   ]
  },
  {
   "cell_type": "code",
   "execution_count": null,
   "metadata": {},
   "outputs": [],
   "source": [
    "ff[0].tail()"
   ]
  },
  {
   "cell_type": "markdown",
   "metadata": {},
   "source": [
    "### 3. Pull and load VIX from the Fama-French Data Library\n"
   ]
  },
  {
   "cell_type": "markdown",
   "metadata": {},
   "source": [
    "\n",
    "Using `load_vix`, we pull and save CBOE Volatility Index data from FRED. The data is used later in table replicatation."
   ]
  },
  {
   "cell_type": "code",
   "execution_count": null,
   "metadata": {},
   "outputs": [],
   "source": [
    "vix = load_vix.load_vix(data_dir=DATA_DIR)"
   ]
  },
  {
   "cell_type": "markdown",
   "metadata": {},
   "source": [
    "## Data Cleaning and Processing"
   ]
  },
  {
   "cell_type": "markdown",
   "metadata": {},
   "source": [
    "### Select the desired subsample of the data"
   ]
  },
  {
   "cell_type": "markdown",
   "metadata": {},
   "source": [
    "#### For reversal strategy based on transaction prices calculated from daily closing prices"
   ]
  },
  {
   "cell_type": "markdown",
   "metadata": {},
   "source": [
    "1. Adjust prc with a negative sign to be positive"
   ]
  },
  {
   "cell_type": "markdown",
   "metadata": {},
   "source": [
    "> Prc is the closing price or the negative bid/ask average for a trading day. If the closing price is not available on any given trading day, the number in the price field has a negative sign to indicate that it is a bid/ask average and not an actual closing price. Please note that in this field the negative sign is a symbol and that the value of the bid/ask average is not negative. If neither closing price nor bid/ask average is available on a date, prc is set to zero. "
   ]
  },
  {
   "cell_type": "markdown",
   "metadata": {},
   "source": [
    "2. Filter stocks with closing price (prc) of at least $1 on the last trading day of the previous calendar month"
   ]
  },
  {
   "cell_type": "markdown",
   "metadata": {},
   "source": [
    "> To enter into the sample, a stock needs to have share code 10 or 11. In addition, it must have a closing price of at least $1 on the last trading day of the previous calendar month.\n"
   ]
  },
  {
   "cell_type": "markdown",
   "metadata": {},
   "source": [
    "3. Select the CRSP stock data for a specific time period"
   ]
  },
  {
   "cell_type": "code",
   "execution_count": null,
   "metadata": {},
   "outputs": [],
   "source": [
    "def select_stocks_by_closing_prices(df):\n",
    "    \"\"\"\n",
    "    Clean the CRSP stock data for strategy based on closing prices\n",
    "    \"\"\"\n",
    "\n",
    "    # make sure 'prc' is positive (negative sign means using bid/ask average instead of closing price)\n",
    "    df = clean_CRSP_stock.clean_prc_to_positive(df)\n",
    "\n",
    "    # stocks must have a closing price of at least $1 on the last trading day of the previous calendar month\n",
    "    df = clean_CRSP_stock.clean_1dollar_prc(df)\n",
    "\n",
    "    # select time range of the data\n",
    "    df = clean_CRSP_stock.clean_date(df, start_year=1998, end_year=2024)\n",
    "\n",
    "    return df.reset_index()"
   ]
  },
  {
   "cell_type": "markdown",
   "metadata": {},
   "source": [
    "#### For reversal strategy based on quote-midpoints calculated from averages of closing bid and ask quotes"
   ]
  },
  {
   "cell_type": "markdown",
   "metadata": {},
   "source": [
    "1. Adjust prc with a negative sign to be positive\n",
    "\n",
    "2. Filter stocks with closing price (prc) of at least $1 on the last trading day of the previous calendar month\n",
    "\n",
    "3. Select stocks traded on NASDAQ\n",
    "\n",
    "4. Adjust bid and ask quotes for stock splits using CRSP adjustment factor"
   ]
  },
  {
   "cell_type": "markdown",
   "metadata": {},
   "source": [
    "> Reversal strategy returns based on transaction prices are calculated from daily closing prices, and the reversal strategy returns based on quote-midpoints are calculated from averages of closing bid and ask quotes, as reported in the CRSP daily returns file (for Nasdaq stocks only), adjusted for stock splits and dividends using the CRSP adjustment factors and dividend information.\n"
   ]
  },
  {
   "cell_type": "markdown",
   "metadata": {},
   "source": [
    "5. Filter stocks with ratio of bid to quote-midpoint not smaller than 0.5.\n",
    "\n",
    "6. Filter stocks with one-day return based on quote-midpoints minus the return based on closing prices not less than -50% and not higher than 100%. If a closing transaction price is not available, the quote-midpoint is used to calculate transaction-price returns.\n",
    "\n",
    "7. Select the CRSP stock data for a specific time period"
   ]
  },
  {
   "cell_type": "markdown",
   "metadata": {},
   "source": [
    "\n",
    "> In a few instances, the closing bid and ask data for Nasdaq stocks on CRSP have some data recording errors, such as increases of bid or ask by a factor of 100 or digits that are cut off. \n",
    "\n",
    "> To screen out data recording errors of bid and ask data for Nasdaq stocks: require that the ratio of bid to quote-midpoint is not smaller than 0.5, and the one-day return based on quote-midpoints minus the return based on closing prices is not less than -50% and not higher than 100%. If a closing transaction price is not available, the quote-midpoint is used to calculate transaction-price returns.\n"
   ]
  },
  {
   "cell_type": "code",
   "execution_count": null,
   "metadata": {},
   "outputs": [],
   "source": [
    "def select_stocks_by_quote_midpoints(df):\n",
    "    \"\"\"\n",
    "    Clean the CRSP stock data for strategy based on quote-midpoints\n",
    "    \"\"\"\n",
    "\n",
    "    # make sure 'prc' is positive (negative sign means using bid/ask average instead of closing price)\n",
    "    df = clean_CRSP_stock.clean_prc_to_positive(df)\n",
    "\n",
    "    # Nasdaq stocks only\n",
    "    df = df[df['exchcd'] == 3]\n",
    "\n",
    "    # adjusting the price using adjustment factors\n",
    "    df['bid'] = df['bid'] / df['cfacpr']\n",
    "    df['ask'] = df['ask'] / df['cfacpr']\n",
    "    df['quote_midpoint'] = (df['bid'] + df['ask']) / 2\n",
    "\n",
    "    # ratio of bid to quote-midpoint is not smaller than 0.5\n",
    "    df = clean_CRSP_stock.clean_bid_quote_midpoint(df)\n",
    "\n",
    "    # one-day return based on quote-midpoints minus the return based on closing prices is less than -50% and higher than 100%\n",
    "    df = clean_CRSP_stock.clean_one_day_return(df)\n",
    "\n",
    "    # stocks must have a closing price of at least $1 on the last trading day of the previous calendar month\n",
    "    df = clean_CRSP_stock.clean_1dollar_prc(df)\n",
    "\n",
    "    # select time range of the data\n",
    "    df = clean_CRSP_stock.clean_date(df, start_year=1998, end_year=2024)\n",
    "\n",
    "    return df.reset_index()"
   ]
  },
  {
   "cell_type": "markdown",
   "metadata": {},
   "source": [
    "### Load cleaned data"
   ]
  },
  {
   "cell_type": "code",
   "execution_count": null,
   "metadata": {},
   "outputs": [],
   "source": [
    "dfcp = clean_CRSP_stock.load_CRSP_closing_price(data_dir=DATA_DIR)\n",
    "dfcp.info()"
   ]
  },
  {
   "cell_type": "code",
   "execution_count": null,
   "metadata": {},
   "outputs": [],
   "source": [
    "dfmid = clean_CRSP_stock.load_CRSP_midpoint(data_dir=DATA_DIR)\n",
    "dfmid.info()"
   ]
  },
  {
   "cell_type": "markdown",
   "metadata": {},
   "source": [
    "## Reversal Strategy "
   ]
  },
  {
   "cell_type": "markdown",
   "metadata": {},
   "source": [
    "### Construct Reversal Strategy "
   ]
  },
  {
   "cell_type": "markdown",
   "metadata": {},
   "source": [
    "Each day t, the reversal strategy returns are calculated as the average of returns from five reversal strategies that weight stocks proportional to the negative of market-adjusted returns on days t − 1, t − 2, ..., t − 5, with weights scaled to add up to $1 short and $1 long."
   ]
  },
  {
   "cell_type": "code",
   "execution_count": null,
   "metadata": {},
   "outputs": [],
   "source": [
    "def calc_reverse_strategy_ret(df, type_col='industry', ret_col='ret'):\n",
    "    df = df.copy()\n",
    "    df['ret-avg'] = df.groupby('date')[ret_col].transform(lambda x: x - x.mean())\n",
    "    df['w'] = df.groupby('date')['ret-avg'].transform(lambda x: - x / (0.5 * x.abs().sum()))\n",
    "\n",
    "    for i in range(1, 6):\n",
    "        df[f'w_lag_{i}'] = df.groupby(type_col)['w'].shift(i)\n",
    "\n",
    "    df['rev_ret'] = (df['w_lag_1'] + df['w_lag_2'] + df['w_lag_3'] + df['w_lag_4'] + df['w_lag_5']) * df[ret_col] / 5\n",
    "\n",
    "    return df.groupby('date')['rev_ret'].sum()"
   ]
  },
  {
   "cell_type": "markdown",
   "metadata": {},
   "source": [
    "To be specific, the returns of the reversal strategies are calculated as an overlay of the returns of five sub-strategies: One with portfolio weights conditioned on day t − 1 returns, one conditioned on day t − 2 data, ..., one conditioned on t − 5 data. Then we calculated the simple average of these five sub-strategies’ returns as the overall reversal strategy return."
   ]
  },
  {
   "cell_type": "markdown",
   "metadata": {},
   "source": [
    "### Hedge against market factor risk"
   ]
  },
  {
   "cell_type": "code",
   "execution_count": null,
   "metadata": {},
   "outputs": [],
   "source": []
  },
  {
   "cell_type": "markdown",
   "metadata": {},
   "source": [
    "## Table Replication"
   ]
  },
  {
   "cell_type": "markdown",
   "metadata": {},
   "source": [
    "We replicate tables with data with time period from January 1998 to December 2010."
   ]
  },
  {
   "cell_type": "markdown",
   "metadata": {},
   "source": [
    "### Table 1: Summary Statistics of Reversal Strategy Returns"
   ]
  },
  {
   "cell_type": "markdown",
   "metadata": {},
   "source": [
    "Panel A presents statistics for the raw returns of these strategies, while Panel B shows similar statistics for hedged returns, which are obtained by eliminating conditional market factor exposure."
   ]
  },
  {
   "cell_type": "markdown",
   "metadata": {},
   "source": [
    "#### A. Raw returns"
   ]
  },
  {
   "cell_type": "markdown",
   "metadata": {},
   "source": [
    "Reversal strategy returns are calculated both with transaction-price returns, quote-midpoint returns, and industry returns. In each case, the portfolio weights are calculated with the same type of return (on days t − 1 to t − 5) as the type used to calculate portfolio returns (on day t).\n",
    "\n",
    "- Transaction-price returns are calculated from daily CRSP closing transaction prices (for NYSE, AMEX, and Nasdaq stocks). \n",
    "- Quote-midpoint returns are calculated from bid-ask midpoints of daily CRSP closing quotes (with Nasdaq stocks only). \n",
    "- The industry returns pulled from Fama and French are calculated with transaction prices. "
   ]
  },
  {
   "cell_type": "code",
   "execution_count": null,
   "metadata": {},
   "outputs": [],
   "source": [
    "ret_raw = calc_reversal_strategy.load_reversal_return(data_dir=DATA_DIR)\n",
    "ret_raw"
   ]
  },
  {
   "cell_type": "code",
   "execution_count": null,
   "metadata": {},
   "outputs": [],
   "source": [
    "df_stat_A = calc_reversal_strategy.summary_stats(ret_raw)\n",
    "df_stat_A = df_stat_A.style.format('{:.2f}',na_rep='')\n",
    "df_stat_A\n"
   ]
  },
  {
   "cell_type": "markdown",
   "metadata": {},
   "source": [
    "#### B. Hedged returns"
   ]
  },
  {
   "cell_type": "code",
   "execution_count": null,
   "metadata": {},
   "outputs": [],
   "source": [
    "ret_hedged = calc_reversal_strategy.load_reversal_return(data_dir=DATA_DIR, hedged=True)\n",
    "ret_hedged"
   ]
  },
  {
   "cell_type": "code",
   "execution_count": null,
   "metadata": {},
   "outputs": [],
   "source": [
    "df_stat_B = calc_reversal_strategy.summary_stats(ret_hedged)\n",
    "df_stat_B = df_stat_B.style.format('{:.2f}',na_rep='')\n",
    "df_stat_B"
   ]
  },
  {
   "cell_type": "markdown",
   "metadata": {},
   "source": [
    "### Table 2: Predicting Reversal Strategy Returns with VIX"
   ]
  },
  {
   "cell_type": "code",
   "execution_count": null,
   "metadata": {},
   "outputs": [],
   "source": []
  },
  {
   "cell_type": "markdown",
   "metadata": {},
   "source": [
    "## Table Reproduction"
   ]
  },
  {
   "cell_type": "markdown",
   "metadata": {},
   "source": [
    "Here, we reproduce tables with updated data."
   ]
  },
  {
   "cell_type": "markdown",
   "metadata": {},
   "source": [
    "### Table 1: Summary Statistics of Reversal Strategy Returns"
   ]
  },
  {
   "cell_type": "code",
   "execution_count": null,
   "metadata": {},
   "outputs": [],
   "source": []
  },
  {
   "cell_type": "markdown",
   "metadata": {},
   "source": [
    "### Table 2: Predicting Reversal Strategy Returns with VIX"
   ]
  },
  {
   "cell_type": "code",
   "execution_count": null,
   "metadata": {},
   "outputs": [],
   "source": []
  },
  {
   "cell_type": "markdown",
   "metadata": {},
   "source": [
    "## Analysis outside of replication"
   ]
  },
  {
   "cell_type": "markdown",
   "metadata": {},
   "source": [
    "### 1. Performance of Reversal Strategies"
   ]
  },
  {
   "cell_type": "code",
   "execution_count": 2,
   "metadata": {},
   "outputs": [
    {
     "data": {
      "text/html": [
       "<div>\n",
       "<style scoped>\n",
       "    .dataframe tbody tr th:only-of-type {\n",
       "        vertical-align: middle;\n",
       "    }\n",
       "\n",
       "    .dataframe tbody tr th {\n",
       "        vertical-align: top;\n",
       "    }\n",
       "\n",
       "    .dataframe thead th {\n",
       "        text-align: right;\n",
       "    }\n",
       "</style>\n",
       "<table border=\"1\" class=\"dataframe\">\n",
       "  <thead>\n",
       "    <tr style=\"text-align: right;\">\n",
       "      <th></th>\n",
       "      <th>Transact. prices</th>\n",
       "      <th>Quote-midpoints</th>\n",
       "      <th>Industry portfolio</th>\n",
       "      <th>CRSP Value Weighted Index</th>\n",
       "    </tr>\n",
       "  </thead>\n",
       "  <tbody>\n",
       "    <tr>\n",
       "      <th>Annualized Mean Return(%)</th>\n",
       "      <td>77.22</td>\n",
       "      <td>48.18</td>\n",
       "      <td>4.00</td>\n",
       "      <td>5.27</td>\n",
       "    </tr>\n",
       "    <tr>\n",
       "      <th>Annualzied Volatility(%)</th>\n",
       "      <td>8.95</td>\n",
       "      <td>10.61</td>\n",
       "      <td>8.85</td>\n",
       "      <td>21.47</td>\n",
       "    </tr>\n",
       "    <tr>\n",
       "      <th>Annualized Sharpe Ratio</th>\n",
       "      <td>8.63</td>\n",
       "      <td>4.54</td>\n",
       "      <td>0.45</td>\n",
       "      <td>0.25</td>\n",
       "    </tr>\n",
       "    <tr>\n",
       "      <th>Skewness</th>\n",
       "      <td>3.00</td>\n",
       "      <td>3.54</td>\n",
       "      <td>0.77</td>\n",
       "      <td>-0.06</td>\n",
       "    </tr>\n",
       "    <tr>\n",
       "      <th>Kurtosis</th>\n",
       "      <td>38.37</td>\n",
       "      <td>49.58</td>\n",
       "      <td>14.58</td>\n",
       "      <td>9.78</td>\n",
       "    </tr>\n",
       "    <tr>\n",
       "      <th>VaR (0.05)(%)</th>\n",
       "      <td>-0.33</td>\n",
       "      <td>-0.61</td>\n",
       "      <td>-0.74</td>\n",
       "      <td>-2.07</td>\n",
       "    </tr>\n",
       "    <tr>\n",
       "      <th>CVaR (0.05)(%)</th>\n",
       "      <td>-0.67</td>\n",
       "      <td>-1.02</td>\n",
       "      <td>-1.22</td>\n",
       "      <td>-3.17</td>\n",
       "    </tr>\n",
       "    <tr>\n",
       "      <th>Max Drawdown(%)</th>\n",
       "      <td>-4.38</td>\n",
       "      <td>-7.70</td>\n",
       "      <td>-13.90</td>\n",
       "      <td>-57.18</td>\n",
       "    </tr>\n",
       "    <tr>\n",
       "      <th>Peak</th>\n",
       "      <td>2000-04-11</td>\n",
       "      <td>2001-07-13</td>\n",
       "      <td>1998-04-09</td>\n",
       "      <td>2007-10-09</td>\n",
       "    </tr>\n",
       "    <tr>\n",
       "      <th>Bottom</th>\n",
       "      <td>2000-04-14</td>\n",
       "      <td>2001-09-21</td>\n",
       "      <td>1998-10-08</td>\n",
       "      <td>2009-03-09</td>\n",
       "    </tr>\n",
       "    <tr>\n",
       "      <th>Recovery Date</th>\n",
       "      <td>2000-04-18</td>\n",
       "      <td>2001-10-24</td>\n",
       "      <td>1999-06-16</td>\n",
       "      <td>NaN</td>\n",
       "    </tr>\n",
       "    <tr>\n",
       "      <th>Duration (days)</th>\n",
       "      <td>7.0</td>\n",
       "      <td>103.0</td>\n",
       "      <td>433.0</td>\n",
       "      <td>NaN</td>\n",
       "    </tr>\n",
       "  </tbody>\n",
       "</table>\n",
       "</div>"
      ],
      "text/plain": [
       "                          Transact. prices Quote-midpoints Industry portfolio  \\\n",
       "Annualized Mean Return(%)            77.22           48.18               4.00   \n",
       "Annualzied Volatility(%)              8.95           10.61               8.85   \n",
       "Annualized Sharpe Ratio               8.63            4.54               0.45   \n",
       "Skewness                              3.00            3.54               0.77   \n",
       "Kurtosis                             38.37           49.58              14.58   \n",
       "VaR (0.05)(%)                        -0.33           -0.61              -0.74   \n",
       "CVaR (0.05)(%)                       -0.67           -1.02              -1.22   \n",
       "Max Drawdown(%)                      -4.38           -7.70             -13.90   \n",
       "Peak                            2000-04-11      2001-07-13         1998-04-09   \n",
       "Bottom                          2000-04-14      2001-09-21         1998-10-08   \n",
       "Recovery Date                   2000-04-18      2001-10-24         1999-06-16   \n",
       "Duration (days)                        7.0           103.0              433.0   \n",
       "\n",
       "                          CRSP Value Weighted Index  \n",
       "Annualized Mean Return(%)                      5.27  \n",
       "Annualzied Volatility(%)                      21.47  \n",
       "Annualized Sharpe Ratio                        0.25  \n",
       "Skewness                                      -0.06  \n",
       "Kurtosis                                       9.78  \n",
       "VaR (0.05)(%)                                 -2.07  \n",
       "CVaR (0.05)(%)                                -3.17  \n",
       "Max Drawdown(%)                              -57.18  \n",
       "Peak                                     2007-10-09  \n",
       "Bottom                                   2009-03-09  \n",
       "Recovery Date                                   NaN  \n",
       "Duration (days)                                 NaN  "
      ]
     },
     "execution_count": 2,
     "metadata": {},
     "output_type": "execute_result"
    }
   ],
   "source": [
    "ret_raw = calc_reversal_strategy.load_reversal_return(data_dir=DATA_DIR)\n",
    "index = pd.read_parquet(DATA_DIR / \"pulled\" / \"CRSP_DSIX.parquet\")\n",
    "index = index.set_index('caldt')['vwretx']*100\n",
    "strategies = pd.concat([ret_raw, index], axis=1)\n",
    "strategies.columns = ['Transact. prices','Quote-midpoints','Industry portfolio', 'CRSP Value Weighted Index']\n",
    "performance_matrix = additional_analysis.performance_summary(strategies, 252)\n",
    "performance_matrix"
   ]
  },
  {
   "cell_type": "markdown",
   "metadata": {},
   "source": [
    "Apart from the original statistical analysis of reversal strategy provided by the paper, we create a new version of performance matrix which includes VaR(0.05), CVaR(0.05), max drawdown, and other drawdown-based strategy perfomance, and we also add CRSP value weighted index as the benchmark to evaluate the performance of reversal strategies. \n",
    "\n",
    "Compared to the CRSP value weighted index, the reversal strategy based on individual stocks tends to have much higher annualized mean return and lower annualized volatility, which cause a way higher annualized sharpe ratio. The mean return of industry reversal strategy is a little bit lower than the banchmark, but it has lower volatility with higher sharpe ratio.\n",
    "\n",
    "With regard to max drawdown, the transact price based individual reversal strategy is the best(-4.38%) among all the reversal strategies(quote-midpoints: -7.70%, industry: -13.90%) and the CRSP index(-57.18%). That strategy dropped form the peak on 2009-10-22 after the period of financial crisis. And it only used 7 days to recover the lose since the peak, while the industry reversal strategy took 433 days to recover and CRSP value weighted index didn't recover to the peak."
   ]
  },
  {
   "cell_type": "markdown",
   "metadata": {},
   "source": [
    "### 2. Reversal Strategy vs VIX"
   ]
  },
  {
   "cell_type": "code",
   "execution_count": 5,
   "metadata": {},
   "outputs": [
    {
     "data": {
      "image/png": "[encoded data removed]",
      "text/plain": [
       "<Figure size 1000x600 with 2 Axes>"
      ]
     },
     "metadata": {},
     "output_type": "display_data"
    }
   ],
   "source": [
    "vix = load_vix.load_vix(data_dir=DATA_DIR)\n",
    "reversal_strategy = ret_raw.join(vix, how='left')\n",
    "reversal_strategy['Transact. prices'] = reversal_strategy['Transact. prices'].rolling(window=62).mean()\n",
    "\n",
    "# Plot reversal strategy and VIX\n",
    "fig, ax1 = plt.subplots(figsize=(10, 6))\n",
    "\n",
    "ax1.plot(reversal_strategy.index, reversal_strategy['Transact. prices'], color='brown')\n",
    "ax1.set_ylabel('Average return per day')\n",
    "plt.legend(['Average return per day'])\n",
    "\n",
    "ax2 = ax1.twinx()\n",
    "ax2.plot(reversal_strategy.index, reversal_strategy['VIXCLS'])\n",
    "ax2.set_ylabel('VIX')\n",
    "plt.legend(['VIX'])\n",
    "\n",
    "ax1.set_xlabel('Date')\n",
    "plt.show()"
   ]
  },
  {
   "cell_type": "markdown",
   "metadata": {},
   "source": [
    "This figure shows the three-month moving average return of the reversal strategy and VIX index across 1998 to 2010. The blue curve(VIX index) has a pre-trend of the red curve(3-month MA return of reversal strategy), which presents a key finding of the paper that the VIX index has a power to predict the reversal strategy return.\n",
    "\n",
    "During the LTCM crisis in 1998 and  Nasdaq decline in 2000, the reversal strategy return increased with VIX increasing. From then until 2007, returns declined steadily to less than 0.2% per day, but during the financial crisis, they surged, surpassing levels seen during the LTCM crisis. The figure illustrates a strong correlation between the time variation in the reversal strategy's return and the VIX index. Since the financial crisis began in 2007, the returns of the reversal strategy and the VIX have closely tracked each other.\n"
   ]
  }
 ],
 "metadata": {
  "language_info": {
   "name": "python"
  }
 },
 "nbformat": 4,
 "nbformat_minor": 2
}
